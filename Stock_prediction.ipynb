{
  "cells": [
    {
      "cell_type": "code",
      "execution_count": 1,
      "id": "8831ce23",
      "metadata": {
        "id": "8831ce23"
      },
      "outputs": [],
      "source": [
        "\n",
        "# Importing the libraries\n",
        "import numpy as np\n",
        "import matplotlib.pyplot as plt\n",
        "import pandas as pd"
      ]
    },
    {
      "cell_type": "code",
      "execution_count": 2,
      "id": "2e9e7022",
      "metadata": {
        "id": "2e9e7022"
      },
      "outputs": [],
      "source": [
        "dataset_train = pd.read_csv('NSE-TATAGLOBAL.csv')\n",
        "training_set = dataset_train.iloc[:, 1:2].values"
      ]
    },
    {
      "cell_type": "code",
      "execution_count": 3,
      "id": "b50e9dd1",
      "metadata": {
        "colab": {
          "base_uri": "https://localhost:8080/",
          "height": 206
        },
        "id": "b50e9dd1",
        "outputId": "09c6d706-e97d-4ba4-b3a7-c9ba22b5c9d6"
      },
      "outputs": [
        {
          "output_type": "execute_result",
          "data": {
            "text/plain": [
              "         Date    Open    High     Low    Last   Close  Total Trade Quantity  \\\n",
              "0  2018-09-28  234.05  235.95  230.20  233.50  233.75               3069914   \n",
              "1  2018-09-27  234.55  236.80  231.10  233.80  233.25               5082859   \n",
              "2  2018-09-26  240.00  240.00  232.50  235.00  234.25               2240909   \n",
              "3  2018-09-25  233.30  236.75  232.00  236.25  236.10               2349368   \n",
              "4  2018-09-24  233.55  239.20  230.75  234.00  233.30               3423509   \n",
              "\n",
              "   Turnover (Lacs)  \n",
              "0          7162.35  \n",
              "1         11859.95  \n",
              "2          5248.60  \n",
              "3          5503.90  \n",
              "4          7999.55  "
            ],
            "text/html": [
              "\n",
              "  <div id=\"df-6f08f188-8703-48df-8dc8-a71fc81b33a6\">\n",
              "    <div class=\"colab-df-container\">\n",
              "      <div>\n",
              "<style scoped>\n",
              "    .dataframe tbody tr th:only-of-type {\n",
              "        vertical-align: middle;\n",
              "    }\n",
              "\n",
              "    .dataframe tbody tr th {\n",
              "        vertical-align: top;\n",
              "    }\n",
              "\n",
              "    .dataframe thead th {\n",
              "        text-align: right;\n",
              "    }\n",
              "</style>\n",
              "<table border=\"1\" class=\"dataframe\">\n",
              "  <thead>\n",
              "    <tr style=\"text-align: right;\">\n",
              "      <th></th>\n",
              "      <th>Date</th>\n",
              "      <th>Open</th>\n",
              "      <th>High</th>\n",
              "      <th>Low</th>\n",
              "      <th>Last</th>\n",
              "      <th>Close</th>\n",
              "      <th>Total Trade Quantity</th>\n",
              "      <th>Turnover (Lacs)</th>\n",
              "    </tr>\n",
              "  </thead>\n",
              "  <tbody>\n",
              "    <tr>\n",
              "      <th>0</th>\n",
              "      <td>2018-09-28</td>\n",
              "      <td>234.05</td>\n",
              "      <td>235.95</td>\n",
              "      <td>230.20</td>\n",
              "      <td>233.50</td>\n",
              "      <td>233.75</td>\n",
              "      <td>3069914</td>\n",
              "      <td>7162.35</td>\n",
              "    </tr>\n",
              "    <tr>\n",
              "      <th>1</th>\n",
              "      <td>2018-09-27</td>\n",
              "      <td>234.55</td>\n",
              "      <td>236.80</td>\n",
              "      <td>231.10</td>\n",
              "      <td>233.80</td>\n",
              "      <td>233.25</td>\n",
              "      <td>5082859</td>\n",
              "      <td>11859.95</td>\n",
              "    </tr>\n",
              "    <tr>\n",
              "      <th>2</th>\n",
              "      <td>2018-09-26</td>\n",
              "      <td>240.00</td>\n",
              "      <td>240.00</td>\n",
              "      <td>232.50</td>\n",
              "      <td>235.00</td>\n",
              "      <td>234.25</td>\n",
              "      <td>2240909</td>\n",
              "      <td>5248.60</td>\n",
              "    </tr>\n",
              "    <tr>\n",
              "      <th>3</th>\n",
              "      <td>2018-09-25</td>\n",
              "      <td>233.30</td>\n",
              "      <td>236.75</td>\n",
              "      <td>232.00</td>\n",
              "      <td>236.25</td>\n",
              "      <td>236.10</td>\n",
              "      <td>2349368</td>\n",
              "      <td>5503.90</td>\n",
              "    </tr>\n",
              "    <tr>\n",
              "      <th>4</th>\n",
              "      <td>2018-09-24</td>\n",
              "      <td>233.55</td>\n",
              "      <td>239.20</td>\n",
              "      <td>230.75</td>\n",
              "      <td>234.00</td>\n",
              "      <td>233.30</td>\n",
              "      <td>3423509</td>\n",
              "      <td>7999.55</td>\n",
              "    </tr>\n",
              "  </tbody>\n",
              "</table>\n",
              "</div>\n",
              "      <button class=\"colab-df-convert\" onclick=\"convertToInteractive('df-6f08f188-8703-48df-8dc8-a71fc81b33a6')\"\n",
              "              title=\"Convert this dataframe to an interactive table.\"\n",
              "              style=\"display:none;\">\n",
              "        \n",
              "  <svg xmlns=\"http://www.w3.org/2000/svg\" height=\"24px\"viewBox=\"0 0 24 24\"\n",
              "       width=\"24px\">\n",
              "    <path d=\"M0 0h24v24H0V0z\" fill=\"none\"/>\n",
              "    <path d=\"M18.56 5.44l.94 2.06.94-2.06 2.06-.94-2.06-.94-.94-2.06-.94 2.06-2.06.94zm-11 1L8.5 8.5l.94-2.06 2.06-.94-2.06-.94L8.5 2.5l-.94 2.06-2.06.94zm10 10l.94 2.06.94-2.06 2.06-.94-2.06-.94-.94-2.06-.94 2.06-2.06.94z\"/><path d=\"M17.41 7.96l-1.37-1.37c-.4-.4-.92-.59-1.43-.59-.52 0-1.04.2-1.43.59L10.3 9.45l-7.72 7.72c-.78.78-.78 2.05 0 2.83L4 21.41c.39.39.9.59 1.41.59.51 0 1.02-.2 1.41-.59l7.78-7.78 2.81-2.81c.8-.78.8-2.07 0-2.86zM5.41 20L4 18.59l7.72-7.72 1.47 1.35L5.41 20z\"/>\n",
              "  </svg>\n",
              "      </button>\n",
              "      \n",
              "  <style>\n",
              "    .colab-df-container {\n",
              "      display:flex;\n",
              "      flex-wrap:wrap;\n",
              "      gap: 12px;\n",
              "    }\n",
              "\n",
              "    .colab-df-convert {\n",
              "      background-color: #E8F0FE;\n",
              "      border: none;\n",
              "      border-radius: 50%;\n",
              "      cursor: pointer;\n",
              "      display: none;\n",
              "      fill: #1967D2;\n",
              "      height: 32px;\n",
              "      padding: 0 0 0 0;\n",
              "      width: 32px;\n",
              "    }\n",
              "\n",
              "    .colab-df-convert:hover {\n",
              "      background-color: #E2EBFA;\n",
              "      box-shadow: 0px 1px 2px rgba(60, 64, 67, 0.3), 0px 1px 3px 1px rgba(60, 64, 67, 0.15);\n",
              "      fill: #174EA6;\n",
              "    }\n",
              "\n",
              "    [theme=dark] .colab-df-convert {\n",
              "      background-color: #3B4455;\n",
              "      fill: #D2E3FC;\n",
              "    }\n",
              "\n",
              "    [theme=dark] .colab-df-convert:hover {\n",
              "      background-color: #434B5C;\n",
              "      box-shadow: 0px 1px 3px 1px rgba(0, 0, 0, 0.15);\n",
              "      filter: drop-shadow(0px 1px 2px rgba(0, 0, 0, 0.3));\n",
              "      fill: #FFFFFF;\n",
              "    }\n",
              "  </style>\n",
              "\n",
              "      <script>\n",
              "        const buttonEl =\n",
              "          document.querySelector('#df-6f08f188-8703-48df-8dc8-a71fc81b33a6 button.colab-df-convert');\n",
              "        buttonEl.style.display =\n",
              "          google.colab.kernel.accessAllowed ? 'block' : 'none';\n",
              "\n",
              "        async function convertToInteractive(key) {\n",
              "          const element = document.querySelector('#df-6f08f188-8703-48df-8dc8-a71fc81b33a6');\n",
              "          const dataTable =\n",
              "            await google.colab.kernel.invokeFunction('convertToInteractive',\n",
              "                                                     [key], {});\n",
              "          if (!dataTable) return;\n",
              "\n",
              "          const docLinkHtml = 'Like what you see? Visit the ' +\n",
              "            '<a target=\"_blank\" href=https://colab.research.google.com/notebooks/data_table.ipynb>data table notebook</a>'\n",
              "            + ' to learn more about interactive tables.';\n",
              "          element.innerHTML = '';\n",
              "          dataTable['output_type'] = 'display_data';\n",
              "          await google.colab.output.renderOutput(dataTable, element);\n",
              "          const docLink = document.createElement('div');\n",
              "          docLink.innerHTML = docLinkHtml;\n",
              "          element.appendChild(docLink);\n",
              "        }\n",
              "      </script>\n",
              "    </div>\n",
              "  </div>\n",
              "  "
            ]
          },
          "metadata": {},
          "execution_count": 3
        }
      ],
      "source": [
        "dataset_train.head()"
      ]
    },
    {
      "cell_type": "code",
      "execution_count": 4,
      "id": "ef059c61",
      "metadata": {
        "id": "ef059c61"
      },
      "outputs": [],
      "source": [
        "from sklearn.preprocessing import MinMaxScaler\n",
        "sc = MinMaxScaler(feature_range = (0, 1))\n",
        "training_set_scaled = sc.fit_transform(training_set)"
      ]
    },
    {
      "cell_type": "code",
      "execution_count": 5,
      "id": "d9e31214",
      "metadata": {
        "id": "d9e31214"
      },
      "outputs": [],
      "source": [
        "X_train = []\n",
        "y_train = []\n",
        "for i in range(60, 2035):\n",
        "    X_train.append(training_set_scaled[i-60:i, 0])\n",
        "    y_train.append(training_set_scaled[i, 0])\n",
        "X_train, y_train = np.array(X_train), np.array(y_train)"
      ]
    },
    {
      "cell_type": "code",
      "execution_count": 6,
      "id": "87b3d5f6",
      "metadata": {
        "id": "87b3d5f6"
      },
      "outputs": [],
      "source": [
        "X_train = np.reshape(X_train, (X_train.shape[0], X_train.shape[1], 1))"
      ]
    },
    {
      "cell_type": "code",
      "execution_count": 8,
      "id": "e9c7e945",
      "metadata": {
        "id": "e9c7e945"
      },
      "outputs": [],
      "source": [
        "import tensorflow as tf\n"
      ]
    },
    {
      "cell_type": "code",
      "execution_count": 7,
      "id": "24e98cee",
      "metadata": {
        "id": "24e98cee"
      },
      "outputs": [],
      "source": [
        "from keras.models import Sequential\n",
        "from keras.layers import Dense\n",
        "from keras.layers import LSTM\n",
        "from keras.layers import Dropout"
      ]
    },
    {
      "cell_type": "code",
      "execution_count": 9,
      "id": "3a176697",
      "metadata": {
        "id": "3a176697"
      },
      "outputs": [],
      "source": [
        "# Initialising the RNN\n",
        "regressor = Sequential()\n"
      ]
    },
    {
      "cell_type": "code",
      "execution_count": 10,
      "id": "645668b2",
      "metadata": {
        "id": "645668b2"
      },
      "outputs": [],
      "source": [
        "\n",
        "# Adding the first LSTM layer and some Dropout regularisation\n",
        "regressor.add(LSTM(units = 50, return_sequences = True, input_shape = (X_train.shape[1], 1)))\n",
        "regressor.add(Dropout(0.2))"
      ]
    },
    {
      "cell_type": "code",
      "execution_count": 11,
      "id": "548caec3",
      "metadata": {
        "id": "548caec3"
      },
      "outputs": [],
      "source": [
        "# Adding a second LSTM layer and some Dropout regularisation\n",
        "regressor.add(LSTM(units = 50, return_sequences = True))\n",
        "regressor.add(Dropout(0.2))"
      ]
    },
    {
      "cell_type": "code",
      "execution_count": 13,
      "id": "410d7fea",
      "metadata": {
        "id": "410d7fea"
      },
      "outputs": [],
      "source": [
        "regressor.add(Dropout(0.2))\n",
        "# Adding a third LSTM layer and some Dropout regularisation\n",
        "regressor.add(LSTM(units = 50, return_sequences = True))\n",
        "regressor.add(Dropout(0.2))"
      ]
    },
    {
      "cell_type": "code",
      "execution_count": 16,
      "id": "ccf54bac",
      "metadata": {
        "id": "ccf54bac"
      },
      "outputs": [],
      "source": [
        "regressor.add(Dropout(0.2))\n",
        "# Adding a third LSTM layer and some Dropout regularisation\n",
        "regressor.add(LSTM(units = 50, return_sequences = True))\n",
        "regressor.add(Dropout(0.2))"
      ]
    },
    {
      "cell_type": "code",
      "execution_count": 17,
      "id": "623f7ba6",
      "metadata": {
        "id": "623f7ba6"
      },
      "outputs": [],
      "source": [
        "# Adding a fourth LSTM layer and some Dropout regularisation\n",
        "regressor.add(LSTM(units = 50))\n",
        "regressor.add(Dropout(0.2))"
      ]
    },
    {
      "cell_type": "code",
      "execution_count": null,
      "id": "3fe41c4e",
      "metadata": {
        "colab": {
          "base_uri": "https://localhost:8080/"
        },
        "id": "3fe41c4e",
        "outputId": "8e6ab71d-6a6b-40bd-e820-cee5d49e0e1b"
      },
      "outputs": [
        {
          "output_type": "stream",
          "name": "stdout",
          "text": [
            "Epoch 1/100\n",
            "62/62 [==============================] - 24s 186ms/step - loss: 0.0092\n",
            "Epoch 2/100\n",
            "62/62 [==============================] - 11s 177ms/step - loss: 0.0035\n",
            "Epoch 3/100\n",
            "62/62 [==============================] - 11s 182ms/step - loss: 0.0030\n",
            "Epoch 4/100\n",
            "62/62 [==============================] - 11s 183ms/step - loss: 0.0033\n",
            "Epoch 5/100\n",
            "62/62 [==============================] - 11s 183ms/step - loss: 0.0031\n",
            "Epoch 6/100\n",
            "62/62 [==============================] - 11s 181ms/step - loss: 0.0029\n",
            "Epoch 7/100\n",
            "62/62 [==============================] - 11s 183ms/step - loss: 0.0026\n",
            "Epoch 8/100\n",
            "62/62 [==============================] - 11s 184ms/step - loss: 0.0024\n",
            "Epoch 9/100\n",
            "62/62 [==============================] - 11s 177ms/step - loss: 0.0023\n",
            "Epoch 10/100\n",
            "62/62 [==============================] - 12s 187ms/step - loss: 0.0019\n",
            "Epoch 11/100\n",
            "62/62 [==============================] - 12s 197ms/step - loss: 0.0020\n",
            "Epoch 12/100\n",
            "62/62 [==============================] - 12s 193ms/step - loss: 0.0023\n",
            "Epoch 13/100\n",
            "62/62 [==============================] - 12s 194ms/step - loss: 0.0018\n",
            "Epoch 14/100\n",
            "62/62 [==============================] - 12s 194ms/step - loss: 0.0018\n",
            "Epoch 15/100\n",
            "62/62 [==============================] - 12s 193ms/step - loss: 0.0018\n",
            "Epoch 16/100\n",
            "62/62 [==============================] - 13s 206ms/step - loss: 0.0021\n",
            "Epoch 17/100\n",
            "62/62 [==============================] - 13s 217ms/step - loss: 0.0018\n",
            "Epoch 18/100\n",
            "62/62 [==============================] - 16s 259ms/step - loss: 0.0017\n",
            "Epoch 19/100\n",
            "62/62 [==============================] - 24s 396ms/step - loss: 0.0018\n",
            "Epoch 20/100\n",
            "62/62 [==============================] - 12s 201ms/step - loss: 0.0018\n",
            "Epoch 21/100\n",
            "62/62 [==============================] - 12s 200ms/step - loss: 0.0018\n",
            "Epoch 22/100\n",
            "62/62 [==============================] - 12s 201ms/step - loss: 0.0019\n",
            "Epoch 23/100\n",
            "62/62 [==============================] - 12s 197ms/step - loss: 0.0016\n",
            "Epoch 24/100\n",
            "62/62 [==============================] - 12s 198ms/step - loss: 0.0015\n",
            "Epoch 25/100\n",
            "62/62 [==============================] - 12s 186ms/step - loss: 0.0017\n",
            "Epoch 26/100\n",
            "62/62 [==============================] - 11s 177ms/step - loss: 0.0015\n",
            "Epoch 27/100\n",
            "62/62 [==============================] - 13s 210ms/step - loss: 0.0013\n",
            "Epoch 28/100\n",
            "62/62 [==============================] - 12s 194ms/step - loss: 0.0014\n",
            "Epoch 29/100\n",
            "62/62 [==============================] - 13s 209ms/step - loss: 0.0012\n",
            "Epoch 30/100\n",
            "62/62 [==============================] - 13s 208ms/step - loss: 0.0015\n",
            "Epoch 31/100\n",
            "62/62 [==============================] - 12s 191ms/step - loss: 0.0016\n",
            "Epoch 32/100\n",
            "62/62 [==============================] - 12s 194ms/step - loss: 0.0013\n",
            "Epoch 33/100\n",
            "62/62 [==============================] - 12s 192ms/step - loss: 0.0014\n",
            "Epoch 34/100\n",
            "62/62 [==============================] - 12s 195ms/step - loss: 0.0014\n",
            "Epoch 35/100\n",
            "62/62 [==============================] - 12s 194ms/step - loss: 0.0012\n",
            "Epoch 36/100\n",
            "62/62 [==============================] - 12s 189ms/step - loss: 0.0015\n",
            "Epoch 37/100\n",
            "62/62 [==============================] - 12s 194ms/step - loss: 0.0012\n",
            "Epoch 38/100\n",
            "62/62 [==============================] - 13s 211ms/step - loss: 0.0012\n",
            "Epoch 39/100\n",
            "62/62 [==============================] - 12s 195ms/step - loss: 0.0013\n",
            "Epoch 40/100\n",
            "62/62 [==============================] - 11s 185ms/step - loss: 0.0012\n",
            "Epoch 41/100\n",
            "62/62 [==============================] - 11s 179ms/step - loss: 0.0012\n",
            "Epoch 42/100\n",
            "62/62 [==============================] - 12s 202ms/step - loss: 0.0012\n",
            "Epoch 43/100\n",
            "62/62 [==============================] - 12s 196ms/step - loss: 0.0011\n",
            "Epoch 44/100\n",
            "62/62 [==============================] - 12s 193ms/step - loss: 0.0010\n",
            "Epoch 45/100\n",
            "62/62 [==============================] - 12s 197ms/step - loss: 0.0011\n",
            "Epoch 46/100\n",
            "62/62 [==============================] - 12s 200ms/step - loss: 9.5267e-04\n",
            "Epoch 47/100\n",
            "62/62 [==============================] - 13s 204ms/step - loss: 0.0011\n",
            "Epoch 48/100\n",
            "62/62 [==============================] - 11s 186ms/step - loss: 0.0011\n",
            "Epoch 49/100\n",
            "62/62 [==============================] - 12s 187ms/step - loss: 0.0011\n",
            "Epoch 50/100\n",
            "62/62 [==============================] - 13s 207ms/step - loss: 9.3904e-04\n",
            "Epoch 51/100\n",
            "62/62 [==============================] - 12s 195ms/step - loss: 9.3552e-04\n",
            "Epoch 52/100\n",
            "62/62 [==============================] - 12s 188ms/step - loss: 9.8286e-04\n",
            "Epoch 53/100\n",
            "62/62 [==============================] - 12s 186ms/step - loss: 0.0010\n",
            "Epoch 54/100\n",
            "62/62 [==============================] - 12s 185ms/step - loss: 0.0010\n",
            "Epoch 55/100\n",
            "62/62 [==============================] - 11s 183ms/step - loss: 9.3919e-04\n",
            "Epoch 56/100\n",
            "62/62 [==============================] - 11s 182ms/step - loss: 9.2607e-04\n",
            "Epoch 57/100\n",
            "62/62 [==============================] - 11s 183ms/step - loss: 8.1752e-04\n",
            "Epoch 58/100\n",
            "62/62 [==============================] - 11s 184ms/step - loss: 9.3848e-04\n",
            "Epoch 59/100\n",
            "62/62 [==============================] - 11s 184ms/step - loss: 9.8948e-04\n",
            "Epoch 60/100\n",
            "62/62 [==============================] - 11s 179ms/step - loss: 9.0777e-04\n",
            "Epoch 61/100\n",
            "62/62 [==============================] - 10s 166ms/step - loss: 8.7628e-04\n",
            "Epoch 62/100\n",
            "62/62 [==============================] - 11s 182ms/step - loss: 8.2042e-04\n",
            "Epoch 63/100\n",
            "46/62 [=====================>........] - ETA: 3s - loss: 7.7598e-04"
          ]
        }
      ],
      "source": [
        "# Adding the output layer\n",
        "regressor.add(Dense(units = 1))\n",
        "\n",
        "# Compiling the RNN\n",
        "regressor.compile(optimizer = 'adam', loss = 'mean_squared_error')\n",
        "\n",
        "# Fitting the RNN to the Training set\n",
        "regressor.fit(X_train, y_train, epochs = 100, batch_size = 32)"
      ]
    },
    {
      "cell_type": "code",
      "source": [
        "# Getting the real stock price of 2017\n",
        "dataset_test = pd.read_csv('tatatest.csv')\n",
        "real_stock_price = dataset_test.iloc[:, 1:2].values"
      ],
      "metadata": {
        "id": "t-_xICHK5lm5"
      },
      "id": "t-_xICHK5lm5",
      "execution_count": 20,
      "outputs": []
    },
    {
      "cell_type": "code",
      "source": [
        "dataset_total = pd.concat((dataset_train['Open'], dataset_test['Open']), axis = 0)\n",
        "inputs = dataset_total[len(dataset_total) - len(dataset_test) - 60:].values\n",
        "inputs = inputs.reshape(-1,1)\n",
        "inputs = sc.transform(inputs)\n",
        "X_test = []\n",
        "for i in range(60, 76):\n",
        "    X_test.append(inputs[i-60:i, 0])\n",
        "X_test = np.array(X_test)\n",
        "X_test = np.reshape(X_test, (X_test.shape[0], X_test.shape[1], 1))\n",
        "predicted_stock_price = regressor.predict(X_test)\n",
        "predicted_stock_price = sc.inverse_transform(predicted_stock_price)"
      ],
      "metadata": {
        "colab": {
          "base_uri": "https://localhost:8080/"
        },
        "id": "k-NsK2SA5qyC",
        "outputId": "13257b48-9eec-4892-9efd-51a52aeee5df"
      },
      "id": "k-NsK2SA5qyC",
      "execution_count": 21,
      "outputs": [
        {
          "output_type": "stream",
          "name": "stdout",
          "text": [
            "1/1 [==============================] - 2s 2s/step\n"
          ]
        }
      ]
    },
    {
      "cell_type": "code",
      "source": [
        "plt.plot(real_stock_price, color = 'green', label = 'Real TATA Stock Price')\n",
        "plt.plot(predicted_stock_price, color = 'yellow', label = 'Predicted TAT Stock Price')\n",
        "plt.title('TATA Stock Price Prediction')\n",
        "plt.xlabel('Time')\n",
        "plt.ylabel('TATA Stock Price')\n",
        "plt.legend()\n",
        "plt.show()"
      ],
      "metadata": {
        "colab": {
          "base_uri": "https://localhost:8080/",
          "height": 472
        },
        "id": "Z1suonHi5uB1",
        "outputId": "fa394a10-5e22-421a-def2-f734c74efc63"
      },
      "id": "Z1suonHi5uB1",
      "execution_count": 23,
      "outputs": [
        {
          "output_type": "display_data",
          "data": {
            "text/plain": [
              "<Figure size 640x480 with 1 Axes>"
            ],
            "image/png": "[encoded data removed]"
          },
          "metadata": {}
        }
      ]
    }
  ],
  "metadata": {
    "kernelspec": {
      "display_name": "Python 3 (ipykernel)",
      "language": "python",
      "name": "python3"
    },
    "language_info": {
      "codemirror_mode": {
        "name": "ipython",
        "version": 3
      },
      "file_extension": ".py",
      "mimetype": "text/x-python",
      "name": "python",
      "nbconvert_exporter": "python",
      "pygments_lexer": "ipython3",
      "version": "3.10.9"
    },
    "colab": {
      "provenance": []
    }
  },
  "nbformat": 4,
  "nbformat_minor": 5
}